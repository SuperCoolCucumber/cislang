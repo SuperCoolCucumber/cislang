{
 "cells": [
  {
   "cell_type": "code",
   "execution_count": 266,
   "id": "2eb4cd2d",
   "metadata": {},
   "outputs": [],
   "source": [
    "import pandas as pd\n",
    "import numpy as np\n",
    "import re\n",
    "import unidecode"
   ]
  },
  {
   "cell_type": "code",
   "execution_count": 267,
   "id": "1f12399f",
   "metadata": {},
   "outputs": [],
   "source": [
    "df = pd.read_csv('/home/daria/cislang/moldova.csv', sep=';')"
   ]
  },
  {
   "cell_type": "code",
   "execution_count": 268,
   "id": "e137cf3f",
   "metadata": {},
   "outputs": [
    {
     "data": {
      "text/html": [
       "<div>\n",
       "<style scoped>\n",
       "    .dataframe tbody tr th:only-of-type {\n",
       "        vertical-align: middle;\n",
       "    }\n",
       "\n",
       "    .dataframe tbody tr th {\n",
       "        vertical-align: top;\n",
       "    }\n",
       "\n",
       "    .dataframe thead th {\n",
       "        text-align: right;\n",
       "    }\n",
       "</style>\n",
       "<table border=\"1\" class=\"dataframe\">\n",
       "  <thead>\n",
       "    <tr style=\"text-align: right;\">\n",
       "      <th></th>\n",
       "      <th>ru_name</th>\n",
       "      <th>en_name</th>\n",
       "    </tr>\n",
       "  </thead>\n",
       "  <tbody>\n",
       "    <tr>\n",
       "      <th>0</th>\n",
       "      <td>Чеботару, Евгений Сергеевич</td>\n",
       "      <td>Eugeniu Cebotaru</td>\n",
       "    </tr>\n",
       "    <tr>\n",
       "      <th>1</th>\n",
       "      <td>Сергей Викторович Алексеев</td>\n",
       "      <td>Serghei Alexeev</td>\n",
       "    </tr>\n",
       "    <tr>\n",
       "      <th>2</th>\n",
       "      <td>Эндрю Райель</td>\n",
       "      <td>Andrew Rayel</td>\n",
       "    </tr>\n",
       "    <tr>\n",
       "      <th>3</th>\n",
       "      <td>Киртоакэ, Дорин</td>\n",
       "      <td>Dorin Chirtoacă</td>\n",
       "    </tr>\n",
       "    <tr>\n",
       "      <th>4</th>\n",
       "      <td>Александр Иванович Епуряну</td>\n",
       "      <td>Alexandru Epureanu</td>\n",
       "    </tr>\n",
       "    <tr>\n",
       "      <th>...</th>\n",
       "      <td>...</td>\n",
       "      <td>...</td>\n",
       "    </tr>\n",
       "    <tr>\n",
       "      <th>2136</th>\n",
       "      <td>Елена Гиржул</td>\n",
       "      <td>Elena Girzhul</td>\n",
       "    </tr>\n",
       "    <tr>\n",
       "      <th>2137</th>\n",
       "      <td>К. А. Бертини</td>\n",
       "      <td>K. A. Bertini</td>\n",
       "    </tr>\n",
       "    <tr>\n",
       "      <th>2138</th>\n",
       "      <td>Королюк, Всеволод Емельянович</td>\n",
       "      <td>Vsevolod Coroliuc</td>\n",
       "    </tr>\n",
       "    <tr>\n",
       "      <th>2139</th>\n",
       "      <td>Цельман, Цви</td>\n",
       "      <td>Zvi Zelman</td>\n",
       "    </tr>\n",
       "    <tr>\n",
       "      <th>2140</th>\n",
       "      <td>Моисей Исаакович Кантор</td>\n",
       "      <td>Moisey Kantor</td>\n",
       "    </tr>\n",
       "  </tbody>\n",
       "</table>\n",
       "<p>2141 rows × 2 columns</p>\n",
       "</div>"
      ],
      "text/plain": [
       "                            ru_name             en_name\n",
       "0       Чеботару, Евгений Сергеевич    Eugeniu Cebotaru\n",
       "1        Сергей Викторович Алексеев     Serghei Alexeev\n",
       "2                      Эндрю Райель        Andrew Rayel\n",
       "3                   Киртоакэ, Дорин     Dorin Chirtoacă\n",
       "4        Александр Иванович Епуряну  Alexandru Epureanu\n",
       "...                             ...                 ...\n",
       "2136                   Елена Гиржул       Elena Girzhul\n",
       "2137                  К. А. Бертини       K. A. Bertini\n",
       "2138  Королюк, Всеволод Емельянович   Vsevolod Coroliuc\n",
       "2139                   Цельман, Цви          Zvi Zelman\n",
       "2140        Моисей Исаакович Кантор       Moisey Kantor\n",
       "\n",
       "[2141 rows x 2 columns]"
      ]
     },
     "execution_count": 268,
     "metadata": {},
     "output_type": "execute_result"
    }
   ],
   "source": [
    "df"
   ]
  },
  {
   "cell_type": "code",
   "execution_count": 276,
   "id": "c3a76b68",
   "metadata": {},
   "outputs": [],
   "source": [
    "def rus_name_align(name):\n",
    "    mapper = {\n",
    "            1: lambda name: ' '.join(name).strip(','),\n",
    "            2: lambda name: ' '.join(name[::-1]).strip(','),\n",
    "            3: lambda name: ' '.join(name[:-1][::-1]).strip(','),\n",
    "            4: lambda name: ' '.join(name[:-2][::-1]).strip(','),\n",
    "            5: lambda name: ' '.join(name[:-3][::-1]).strip(','),\n",
    "            6: lambda name: ' '.join(name[:-6][::-1]).strip(','),\n",
    "            7: lambda name: ' '.join(name[:-7][::-1]).strip(','),\n",
    "        }\n",
    "    if ',' in name:\n",
    "        name = name.split()\n",
    "        name = mapper[len(name)](name)\n",
    "    return name"
   ]
  },
  {
   "cell_type": "code",
   "execution_count": 277,
   "id": "28d0ee20",
   "metadata": {},
   "outputs": [],
   "source": [
    "# deletes patronymic if present in the middle of the name\n",
    "\n",
    "def align(name):\n",
    "    name = name.split()\n",
    "    if len(name) == 3:\n",
    "        name = name[0] + ' ' + name[2]\n",
    "    else:\n",
    "        name = ' '.join(name)\n",
    "    return name"
   ]
  },
  {
   "cell_type": "code",
   "execution_count": 278,
   "id": "f49a96df",
   "metadata": {},
   "outputs": [],
   "source": [
    "def explode(name):\n",
    "     return name.explode(ignore_index=True)\n",
    "    \n",
    "def remove_diacr(name):\n",
    "    return name.apply(unidecode.unidecode)"
   ]
  },
  {
   "cell_type": "code",
   "execution_count": 279,
   "id": "8d446e7f",
   "metadata": {},
   "outputs": [],
   "source": [
    "def filt1(df):\n",
    "    return (df\n",
    "    .apply({'ru_name': rus_name_align, 'en_name': lambda x: x})\n",
    "    .apply({'ru_name': align, 'en_name': align})\n",
    "    .dropna()\n",
    "    .reset_index(drop=True)\n",
    "           )\n",
    "    # fixed delete_incons here\n"
   ]
  },
  {
   "cell_type": "code",
   "execution_count": 280,
   "id": "084e5ee5",
   "metadata": {},
   "outputs": [],
   "source": [
    "# deletes rows with unequal length\n",
    "\n",
    "def delete_incons(df):\n",
    "    for i in range(len(df)):\n",
    "        if df.ru_name.str.split()[i].__len__() != df.en_name.str.split()[i].__len__():\n",
    "            df = df.drop(i)\n",
    "    return df\n",
    "# rewrite the function so .apply works (takes name as an argument, not df)"
   ]
  },
  {
   "cell_type": "code",
   "execution_count": 281,
   "id": "0e275b11",
   "metadata": {},
   "outputs": [],
   "source": [
    "def filt2(df):\n",
    "    return (df\n",
    "    .apply(lambda item: item.str.split(\" \"))\n",
    "    .apply({'ru_name': explode, 'en_name': explode})\n",
    "    .apply(lambda item: item.str.upper(), axis=1)\n",
    "    .reindex(columns=['en_name', 'ru_name'])\n",
    "    .apply({'en_name': remove_diacr, 'ru_name': lambda x: x})\n",
    "    .drop_duplicates()\n",
    "    .to_csv('~/cislang/moldovian_tst.csv', sep=';', index=False, header=None)\n",
    "           )"
   ]
  },
  {
   "cell_type": "code",
   "execution_count": 282,
   "id": "2b3b5bf0",
   "metadata": {
    "scrolled": false
   },
   "outputs": [],
   "source": [
    "df = filt1(df)\n",
    "df = delete_incons(df)\n",
    "df = filt2(df)"
   ]
  },
  {
   "cell_type": "code",
   "execution_count": null,
   "id": "bc74a101",
   "metadata": {},
   "outputs": [],
   "source": []
  },
  {
   "cell_type": "code",
   "execution_count": null,
   "id": "7f8f7905",
   "metadata": {},
   "outputs": [],
   "source": []
  }
 ],
 "metadata": {
  "kernelspec": {
   "display_name": "Python 3 (ipykernel)",
   "language": "python",
   "name": "python3"
  },
  "language_info": {
   "codemirror_mode": {
    "name": "ipython",
    "version": 3
   },
   "file_extension": ".py",
   "mimetype": "text/x-python",
   "name": "python",
   "nbconvert_exporter": "python",
   "pygments_lexer": "ipython3",
   "version": "3.10.4"
  }
 },
 "nbformat": 4,
 "nbformat_minor": 5
}
